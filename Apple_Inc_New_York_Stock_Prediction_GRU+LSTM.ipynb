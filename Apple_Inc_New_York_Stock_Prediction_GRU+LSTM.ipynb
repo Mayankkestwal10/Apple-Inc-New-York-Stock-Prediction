{
  "nbformat": 4,
  "nbformat_minor": 0,
  "metadata": {
    "colab": {
      "name": "Apple Inc. - New York Stock Prediction GRU+LSTM",
      "provenance": [],
      "collapsed_sections": []
    },
    "kernelspec": {
      "name": "python3",
      "display_name": "Python 3"
    },
    "accelerator": "GPU"
  },
  "cells": [
    {
      "cell_type": "code",
      "metadata": {
        "id": "6fbfA0i5p2dY",
        "colab_type": "code",
        "colab": {
          "base_uri": "https://localhost:8080/",
          "height": 34
        },
        "outputId": "f5a185a9-e111-47e9-b4ef-4c26dc71e17a"
      },
      "source": [
        "import warnings\n",
        "warnings.filterwarnings(\"ignore\")\n",
        "\n",
        "import numpy as np\n",
        "import pandas as pd\n",
        "import matplotlib.pyplot as plt\n",
        "import math\n",
        "import seaborn as sns\n",
        "from sklearn.preprocessing import MinMaxScaler\n",
        "from keras.models import Sequential\n",
        "from keras.layers import Dense, BatchNormalization, Dropout, Activation\n",
        "from keras.layers import GRU, LSTM\n",
        "from sklearn.metrics import mean_squared_error\n",
        "from keras.optimizers import Adam, SGD, RMSprop\n",
        "from keras.callbacks import ReduceLROnPlateau , ModelCheckpoint"
      ],
      "execution_count": null,
      "outputs": [
        {
          "output_type": "stream",
          "text": [
            "Using TensorFlow backend.\n"
          ],
          "name": "stderr"
        }
      ]
    },
    {
      "cell_type": "code",
      "metadata": {
        "id": "crGWmbo8r6HX",
        "colab_type": "code",
        "colab": {}
      },
      "source": [
        "from pydrive.auth import GoogleAuth\n",
        "from pydrive.drive import GoogleDrive\n",
        "from google.colab import auth\n",
        "from oauth2client.client import GoogleCredentials\n",
        "\n",
        "auth.authenticate_user()\n",
        "gauth = GoogleAuth()\n",
        "gauth.credentials = GoogleCredentials.get_application_default()\n",
        "drive = GoogleDrive(gauth)"
      ],
      "execution_count": null,
      "outputs": []
    },
    {
      "cell_type": "code",
      "metadata": {
        "id": "3Zx5eeqKtG90",
        "colab_type": "code",
        "colab": {}
      },
      "source": [
        "downloaded = drive.CreateFile({'id':'1MxmEN1_WaoFdkEb2Q8kSNuoFIENycq_d'}) \n",
        "downloaded.GetContentFile('prices-split-adjusted.csv')  \n",
        "df = pd.read_csv('prices-split-adjusted.csv')\n",
        "# Dataset is now stored in a Pandas Dataframe"
      ],
      "execution_count": null,
      "outputs": []
    },
    {
      "cell_type": "code",
      "metadata": {
        "id": "E-5eiAHpxKcg",
        "colab_type": "code",
        "colab": {
          "base_uri": "https://localhost:8080/",
          "height": 204
        },
        "outputId": "4910f101-8a10-4df5-f57a-a822a62c9408"
      },
      "source": [
        "df.head()"
      ],
      "execution_count": null,
      "outputs": [
        {
          "output_type": "execute_result",
          "data": {
            "text/html": [
              "<div>\n",
              "<style scoped>\n",
              "    .dataframe tbody tr th:only-of-type {\n",
              "        vertical-align: middle;\n",
              "    }\n",
              "\n",
              "    .dataframe tbody tr th {\n",
              "        vertical-align: top;\n",
              "    }\n",
              "\n",
              "    .dataframe thead th {\n",
              "        text-align: right;\n",
              "    }\n",
              "</style>\n",
              "<table border=\"1\" class=\"dataframe\">\n",
              "  <thead>\n",
              "    <tr style=\"text-align: right;\">\n",
              "      <th></th>\n",
              "      <th>date</th>\n",
              "      <th>symbol</th>\n",
              "      <th>open</th>\n",
              "      <th>close</th>\n",
              "      <th>low</th>\n",
              "      <th>high</th>\n",
              "      <th>volume</th>\n",
              "    </tr>\n",
              "  </thead>\n",
              "  <tbody>\n",
              "    <tr>\n",
              "      <th>0</th>\n",
              "      <td>2016-01-05</td>\n",
              "      <td>WLTW</td>\n",
              "      <td>123.430000</td>\n",
              "      <td>125.839996</td>\n",
              "      <td>122.309998</td>\n",
              "      <td>126.250000</td>\n",
              "      <td>2163600.0</td>\n",
              "    </tr>\n",
              "    <tr>\n",
              "      <th>1</th>\n",
              "      <td>2016-01-06</td>\n",
              "      <td>WLTW</td>\n",
              "      <td>125.239998</td>\n",
              "      <td>119.980003</td>\n",
              "      <td>119.940002</td>\n",
              "      <td>125.540001</td>\n",
              "      <td>2386400.0</td>\n",
              "    </tr>\n",
              "    <tr>\n",
              "      <th>2</th>\n",
              "      <td>2016-01-07</td>\n",
              "      <td>WLTW</td>\n",
              "      <td>116.379997</td>\n",
              "      <td>114.949997</td>\n",
              "      <td>114.930000</td>\n",
              "      <td>119.739998</td>\n",
              "      <td>2489500.0</td>\n",
              "    </tr>\n",
              "    <tr>\n",
              "      <th>3</th>\n",
              "      <td>2016-01-08</td>\n",
              "      <td>WLTW</td>\n",
              "      <td>115.480003</td>\n",
              "      <td>116.620003</td>\n",
              "      <td>113.500000</td>\n",
              "      <td>117.440002</td>\n",
              "      <td>2006300.0</td>\n",
              "    </tr>\n",
              "    <tr>\n",
              "      <th>4</th>\n",
              "      <td>2016-01-11</td>\n",
              "      <td>WLTW</td>\n",
              "      <td>117.010002</td>\n",
              "      <td>114.970001</td>\n",
              "      <td>114.089996</td>\n",
              "      <td>117.330002</td>\n",
              "      <td>1408600.0</td>\n",
              "    </tr>\n",
              "  </tbody>\n",
              "</table>\n",
              "</div>"
            ],
            "text/plain": [
              "         date symbol        open       close         low        high     volume\n",
              "0  2016-01-05   WLTW  123.430000  125.839996  122.309998  126.250000  2163600.0\n",
              "1  2016-01-06   WLTW  125.239998  119.980003  119.940002  125.540001  2386400.0\n",
              "2  2016-01-07   WLTW  116.379997  114.949997  114.930000  119.739998  2489500.0\n",
              "3  2016-01-08   WLTW  115.480003  116.620003  113.500000  117.440002  2006300.0\n",
              "4  2016-01-11   WLTW  117.010002  114.970001  114.089996  117.330002  1408600.0"
            ]
          },
          "metadata": {
            "tags": []
          },
          "execution_count": 6
        }
      ]
    },
    {
      "cell_type": "code",
      "metadata": {
        "id": "UHgtwYv90Auy",
        "colab_type": "code",
        "colab": {
          "base_uri": "https://localhost:8080/",
          "height": 34
        },
        "outputId": "c17958d6-890c-4d57-d189-6bc8c3f0127a"
      },
      "source": [
        "df.shape"
      ],
      "execution_count": null,
      "outputs": [
        {
          "output_type": "execute_result",
          "data": {
            "text/plain": [
              "(851264, 7)"
            ]
          },
          "metadata": {
            "tags": []
          },
          "execution_count": 7
        }
      ]
    },
    {
      "cell_type": "code",
      "metadata": {
        "id": "9Itu3XMk0MAm",
        "colab_type": "code",
        "colab": {
          "base_uri": "https://localhost:8080/",
          "height": 297
        },
        "outputId": "a2c8c1d2-4180-4588-c516-eec09f1794d8"
      },
      "source": [
        "df.describe()"
      ],
      "execution_count": null,
      "outputs": [
        {
          "output_type": "execute_result",
          "data": {
            "text/html": [
              "<div>\n",
              "<style scoped>\n",
              "    .dataframe tbody tr th:only-of-type {\n",
              "        vertical-align: middle;\n",
              "    }\n",
              "\n",
              "    .dataframe tbody tr th {\n",
              "        vertical-align: top;\n",
              "    }\n",
              "\n",
              "    .dataframe thead th {\n",
              "        text-align: right;\n",
              "    }\n",
              "</style>\n",
              "<table border=\"1\" class=\"dataframe\">\n",
              "  <thead>\n",
              "    <tr style=\"text-align: right;\">\n",
              "      <th></th>\n",
              "      <th>open</th>\n",
              "      <th>close</th>\n",
              "      <th>low</th>\n",
              "      <th>high</th>\n",
              "      <th>volume</th>\n",
              "    </tr>\n",
              "  </thead>\n",
              "  <tbody>\n",
              "    <tr>\n",
              "      <th>count</th>\n",
              "      <td>851264.000000</td>\n",
              "      <td>851264.000000</td>\n",
              "      <td>851264.000000</td>\n",
              "      <td>851264.000000</td>\n",
              "      <td>8.512640e+05</td>\n",
              "    </tr>\n",
              "    <tr>\n",
              "      <th>mean</th>\n",
              "      <td>64.993618</td>\n",
              "      <td>65.011913</td>\n",
              "      <td>64.336541</td>\n",
              "      <td>65.639748</td>\n",
              "      <td>5.415113e+06</td>\n",
              "    </tr>\n",
              "    <tr>\n",
              "      <th>std</th>\n",
              "      <td>75.203893</td>\n",
              "      <td>75.201216</td>\n",
              "      <td>74.459518</td>\n",
              "      <td>75.906861</td>\n",
              "      <td>1.249468e+07</td>\n",
              "    </tr>\n",
              "    <tr>\n",
              "      <th>min</th>\n",
              "      <td>1.660000</td>\n",
              "      <td>1.590000</td>\n",
              "      <td>1.500000</td>\n",
              "      <td>1.810000</td>\n",
              "      <td>0.000000e+00</td>\n",
              "    </tr>\n",
              "    <tr>\n",
              "      <th>25%</th>\n",
              "      <td>31.270000</td>\n",
              "      <td>31.292776</td>\n",
              "      <td>30.940001</td>\n",
              "      <td>31.620001</td>\n",
              "      <td>1.221500e+06</td>\n",
              "    </tr>\n",
              "    <tr>\n",
              "      <th>50%</th>\n",
              "      <td>48.459999</td>\n",
              "      <td>48.480000</td>\n",
              "      <td>47.970001</td>\n",
              "      <td>48.959999</td>\n",
              "      <td>2.476250e+06</td>\n",
              "    </tr>\n",
              "    <tr>\n",
              "      <th>75%</th>\n",
              "      <td>75.120003</td>\n",
              "      <td>75.139999</td>\n",
              "      <td>74.400002</td>\n",
              "      <td>75.849998</td>\n",
              "      <td>5.222500e+06</td>\n",
              "    </tr>\n",
              "    <tr>\n",
              "      <th>max</th>\n",
              "      <td>1584.439941</td>\n",
              "      <td>1578.130005</td>\n",
              "      <td>1549.939941</td>\n",
              "      <td>1600.930054</td>\n",
              "      <td>8.596434e+08</td>\n",
              "    </tr>\n",
              "  </tbody>\n",
              "</table>\n",
              "</div>"
            ],
            "text/plain": [
              "                open          close            low           high        volume\n",
              "count  851264.000000  851264.000000  851264.000000  851264.000000  8.512640e+05\n",
              "mean       64.993618      65.011913      64.336541      65.639748  5.415113e+06\n",
              "std        75.203893      75.201216      74.459518      75.906861  1.249468e+07\n",
              "min         1.660000       1.590000       1.500000       1.810000  0.000000e+00\n",
              "25%        31.270000      31.292776      30.940001      31.620001  1.221500e+06\n",
              "50%        48.459999      48.480000      47.970001      48.959999  2.476250e+06\n",
              "75%        75.120003      75.139999      74.400002      75.849998  5.222500e+06\n",
              "max      1584.439941    1578.130005    1549.939941    1600.930054  8.596434e+08"
            ]
          },
          "metadata": {
            "tags": []
          },
          "execution_count": 8
        }
      ]
    },
    {
      "cell_type": "code",
      "metadata": {
        "id": "m0dGNx-l1IsX",
        "colab_type": "code",
        "colab": {
          "base_uri": "https://localhost:8080/",
          "height": 34
        },
        "outputId": "181ce3ac-de8d-4c28-82c8-61f088037820"
      },
      "source": [
        "df['symbol'].nunique()"
      ],
      "execution_count": null,
      "outputs": [
        {
          "output_type": "execute_result",
          "data": {
            "text/plain": [
              "501"
            ]
          },
          "metadata": {
            "tags": []
          },
          "execution_count": 9
        }
      ]
    },
    {
      "cell_type": "code",
      "metadata": {
        "id": "jlTsmiQB0PSx",
        "colab_type": "code",
        "colab": {
          "base_uri": "https://localhost:8080/",
          "height": 153
        },
        "outputId": "ebc2982e-b3a7-4dcc-c98d-aa7d9d0ae50c"
      },
      "source": [
        "df.isnull().sum()   # No missing data"
      ],
      "execution_count": null,
      "outputs": [
        {
          "output_type": "execute_result",
          "data": {
            "text/plain": [
              "date      0\n",
              "symbol    0\n",
              "open      0\n",
              "close     0\n",
              "low       0\n",
              "high      0\n",
              "volume    0\n",
              "dtype: int64"
            ]
          },
          "metadata": {
            "tags": []
          },
          "execution_count": 10
        }
      ]
    },
    {
      "cell_type": "code",
      "metadata": {
        "id": "GRUNFvewn0uX",
        "colab_type": "code",
        "colab": {}
      },
      "source": [
        "df = df[df['symbol']=='AAPL']\n",
        "Code = 'AAPL'"
      ],
      "execution_count": null,
      "outputs": []
    },
    {
      "cell_type": "code",
      "metadata": {
        "id": "K03RwzHxo72w",
        "colab_type": "code",
        "colab": {
          "base_uri": "https://localhost:8080/",
          "height": 204
        },
        "outputId": "a8894471-762d-46f2-cdde-0c0554d2fb3f"
      },
      "source": [
        "df.head()"
      ],
      "execution_count": null,
      "outputs": [
        {
          "output_type": "execute_result",
          "data": {
            "text/html": [
              "<div>\n",
              "<style scoped>\n",
              "    .dataframe tbody tr th:only-of-type {\n",
              "        vertical-align: middle;\n",
              "    }\n",
              "\n",
              "    .dataframe tbody tr th {\n",
              "        vertical-align: top;\n",
              "    }\n",
              "\n",
              "    .dataframe thead th {\n",
              "        text-align: right;\n",
              "    }\n",
              "</style>\n",
              "<table border=\"1\" class=\"dataframe\">\n",
              "  <thead>\n",
              "    <tr style=\"text-align: right;\">\n",
              "      <th></th>\n",
              "      <th>date</th>\n",
              "      <th>symbol</th>\n",
              "      <th>open</th>\n",
              "      <th>close</th>\n",
              "      <th>low</th>\n",
              "      <th>high</th>\n",
              "      <th>volume</th>\n",
              "    </tr>\n",
              "  </thead>\n",
              "  <tbody>\n",
              "    <tr>\n",
              "      <th>254</th>\n",
              "      <td>2010-01-04</td>\n",
              "      <td>AAPL</td>\n",
              "      <td>30.490000</td>\n",
              "      <td>30.572857</td>\n",
              "      <td>30.340000</td>\n",
              "      <td>30.642857</td>\n",
              "      <td>123432400.0</td>\n",
              "    </tr>\n",
              "    <tr>\n",
              "      <th>721</th>\n",
              "      <td>2010-01-05</td>\n",
              "      <td>AAPL</td>\n",
              "      <td>30.657143</td>\n",
              "      <td>30.625713</td>\n",
              "      <td>30.464285</td>\n",
              "      <td>30.798571</td>\n",
              "      <td>150476200.0</td>\n",
              "    </tr>\n",
              "    <tr>\n",
              "      <th>1189</th>\n",
              "      <td>2010-01-06</td>\n",
              "      <td>AAPL</td>\n",
              "      <td>30.625713</td>\n",
              "      <td>30.138571</td>\n",
              "      <td>30.107143</td>\n",
              "      <td>30.747143</td>\n",
              "      <td>138040000.0</td>\n",
              "    </tr>\n",
              "    <tr>\n",
              "      <th>1657</th>\n",
              "      <td>2010-01-07</td>\n",
              "      <td>AAPL</td>\n",
              "      <td>30.250000</td>\n",
              "      <td>30.082857</td>\n",
              "      <td>29.864286</td>\n",
              "      <td>30.285715</td>\n",
              "      <td>119282800.0</td>\n",
              "    </tr>\n",
              "    <tr>\n",
              "      <th>2125</th>\n",
              "      <td>2010-01-08</td>\n",
              "      <td>AAPL</td>\n",
              "      <td>30.042856</td>\n",
              "      <td>30.282858</td>\n",
              "      <td>29.865715</td>\n",
              "      <td>30.285715</td>\n",
              "      <td>111902700.0</td>\n",
              "    </tr>\n",
              "  </tbody>\n",
              "</table>\n",
              "</div>"
            ],
            "text/plain": [
              "            date symbol       open  ...        low       high       volume\n",
              "254   2010-01-04   AAPL  30.490000  ...  30.340000  30.642857  123432400.0\n",
              "721   2010-01-05   AAPL  30.657143  ...  30.464285  30.798571  150476200.0\n",
              "1189  2010-01-06   AAPL  30.625713  ...  30.107143  30.747143  138040000.0\n",
              "1657  2010-01-07   AAPL  30.250000  ...  29.864286  30.285715  119282800.0\n",
              "2125  2010-01-08   AAPL  30.042856  ...  29.865715  30.285715  111902700.0\n",
              "\n",
              "[5 rows x 7 columns]"
            ]
          },
          "metadata": {
            "tags": []
          },
          "execution_count": 12
        }
      ]
    },
    {
      "cell_type": "code",
      "metadata": {
        "id": "SJ_FeWHQ8t4e",
        "colab_type": "code",
        "colab": {
          "base_uri": "https://localhost:8080/",
          "height": 350
        },
        "outputId": "ec2e5a34-c189-4f05-be09-192a34d337b1"
      },
      "source": [
        "sns.set_style(\"darkgrid\")\n",
        "opening = df.open.values.astype('float32')\n",
        "ax = pd.Series(opening).plot(figsize=(12,5))\n",
        "ax.set(xlabel='Time', ylabel='Prices', title=Code+\" Opening Stock\")\n",
        "plt.show()"
      ],
      "execution_count": null,
      "outputs": [
        {
          "output_type": "display_data",
          "data": {
            "image/png": "[encoded data removed]",
            "text/plain": [
              "<Figure size 864x360 with 1 Axes>"
            ]
          },
          "metadata": {
            "tags": []
          }
        }
      ]
    },
    {
      "cell_type": "code",
      "metadata": {
        "id": "wEoQrHN1_BXv",
        "colab_type": "code",
        "colab": {
          "base_uri": "https://localhost:8080/",
          "height": 401
        },
        "outputId": "19b9b7ec-f9bf-4aed-e4ad-cf6814eb586a"
      },
      "source": [
        "closing = df.close.values.astype('float32')\n",
        "bx = pd.Series(closing).plot(figsize=(12,5))\n",
        "bx.set(xlabel='Time', ylabel='Prices', title=Code+\" Closing Stock\")"
      ],
      "execution_count": null,
      "outputs": [
        {
          "output_type": "execute_result",
          "data": {
            "text/plain": [
              "[Text(0, 0.5, 'Prices'),\n",
              " Text(0.5, 0, 'Time'),\n",
              " Text(0.5, 1.0, 'AAPL Closing Stock')]"
            ]
          },
          "metadata": {
            "tags": []
          },
          "execution_count": 14
        },
        {
          "output_type": "display_data",
          "data": {
            "image/png": "[encoded data removed]",
            "text/plain": [
              "<Figure size 864x360 with 1 Axes>"
            ]
          },
          "metadata": {
            "tags": []
          }
        }
      ]
    },
    {
      "cell_type": "code",
      "metadata": {
        "id": "izIVc5pmpUDC",
        "colab_type": "code",
        "colab": {}
      },
      "source": [
        "apple_stock_prices = df.close.values.astype('float32')\n",
        "apple_stock_prices = apple_stock_prices.reshape(len(apple_stock_prices), 1)"
      ],
      "execution_count": null,
      "outputs": []
    },
    {
      "cell_type": "markdown",
      "metadata": {
        "id": "mAaL4ZYTGEoJ",
        "colab_type": "text"
      },
      "source": [
        "**Feature scaling the vector for better model performance.**"
      ]
    },
    {
      "cell_type": "code",
      "metadata": {
        "id": "3da1A2RbF_ZQ",
        "colab_type": "code",
        "colab": {}
      },
      "source": [
        "scaler = MinMaxScaler()\n",
        "stocks = scaler.fit_transform(apple_stock_prices)"
      ],
      "execution_count": null,
      "outputs": []
    },
    {
      "cell_type": "markdown",
      "metadata": {
        "id": "8SFGeoXrMPvV",
        "colab_type": "text"
      },
      "source": [
        "**Splitting data into training and testing set**"
      ]
    },
    {
      "cell_type": "code",
      "metadata": {
        "id": "QYj05teiYAap",
        "colab_type": "code",
        "colab": {}
      },
      "source": [
        "from sklearn.model_selection import train_test_split\n",
        "train, test = train_test_split(stocks, test_size=0.2, shuffle=False)"
      ],
      "execution_count": null,
      "outputs": []
    },
    {
      "cell_type": "code",
      "metadata": {
        "id": "kNGx9BrkGs4T",
        "colab_type": "code",
        "colab": {
          "base_uri": "https://localhost:8080/",
          "height": 34
        },
        "outputId": "e821967f-a29e-427d-d35d-c6e49a71d5de"
      },
      "source": [
        "print(train.shape , test.shape)"
      ],
      "execution_count": null,
      "outputs": [
        {
          "output_type": "stream",
          "text": [
            "(1409, 1) (353, 1)\n"
          ],
          "name": "stdout"
        }
      ]
    },
    {
      "cell_type": "markdown",
      "metadata": {
        "id": "4uSCkqchY9Ak",
        "colab_type": "text"
      },
      "source": [
        "**Data Processing**"
      ]
    },
    {
      "cell_type": "code",
      "metadata": {
        "id": "JKmqEDiLGvU_",
        "colab_type": "code",
        "colab": {}
      },
      "source": [
        "def process_data(data , n_features):\n",
        "    \"\"\"\n",
        "    Process Data\n",
        "\n",
        "    Preparing target data points based on n_features.\n",
        "\n",
        "    Parameters\n",
        "    ----------\n",
        "    data : array\n",
        "           given array data of (n, 1) shape.\n",
        "\n",
        "    n_features : int\n",
        "           number of features based on which target value will be computed.\n",
        "\n",
        "    Returns\n",
        "    -------\n",
        "    X : numpy array\n",
        "           feature array\n",
        "    Y : numpy array\n",
        "           target array\n",
        "    \"\"\"\n",
        "\n",
        "\n",
        "    X, Y = [], []\n",
        "    for i in range(len(data)-n_features-1):\n",
        "        a = data[i:(i+n_features), 0]\n",
        "        X.append(a)\n",
        "        Y.append(data[i + n_features, 0])\n",
        "    X = np.array(X)\n",
        "    Y = np.array(Y)\n",
        "    return X, Y"
      ],
      "execution_count": null,
      "outputs": []
    },
    {
      "cell_type": "code",
      "metadata": {
        "id": "vucWjcZIGzQv",
        "colab_type": "code",
        "colab": {}
      },
      "source": [
        "n_features = 7\n",
        "\n",
        "train_X, train_Y = process_data(train, n_features)\n",
        "test_X, test_Y = process_data(test, n_features)"
      ],
      "execution_count": null,
      "outputs": []
    },
    {
      "cell_type": "code",
      "metadata": {
        "id": "XqARlpMk_woV",
        "colab_type": "code",
        "colab": {
          "base_uri": "https://localhost:8080/",
          "height": 34
        },
        "outputId": "eb3ad25c-cb67-4a91-a812-9adfb6616e95"
      },
      "source": [
        "print(train_X.shape , train_Y.shape , test_X.shape , test_Y.shape)"
      ],
      "execution_count": null,
      "outputs": [
        {
          "output_type": "stream",
          "text": [
            "(1401, 7) (1401,) (345, 7) (345,)\n"
          ],
          "name": "stdout"
        }
      ]
    },
    {
      "cell_type": "code",
      "metadata": {
        "id": "5TPutZ-_G9-B",
        "colab_type": "code",
        "colab": {}
      },
      "source": [
        "train_X = train_X.reshape(train_X.shape[0] , 1 ,train_X.shape[1])\n",
        "test_X = test_X.reshape(test_X.shape[0] , 1 ,test_X.shape[1])"
      ],
      "execution_count": null,
      "outputs": []
    },
    {
      "cell_type": "markdown",
      "metadata": {
        "id": "24uu7uGXNgSj",
        "colab_type": "text"
      },
      "source": [
        "**Saving Best Model**"
      ]
    },
    {
      "cell_type": "code",
      "metadata": {
        "id": "6dcL0MX7HC7Y",
        "colab_type": "code",
        "colab": {}
      },
      "source": [
        "filepath=\"best_weights.hdf5\"\n",
        "lr_reduce = ReduceLROnPlateau(monitor='val_loss', factor=0.1, epsilon=0.0001, patience=1, verbose=1)\n",
        "checkpoint = ModelCheckpoint(filepath, monitor='val_loss', verbose=1, save_best_only=True, mode='max')"
      ],
      "execution_count": null,
      "outputs": []
    },
    {
      "cell_type": "markdown",
      "metadata": {
        "id": "Csp5XG6vNqUG",
        "colab_type": "text"
      },
      "source": [
        "**GRU+LSTM - Model Architecture**"
      ]
    },
    {
      "cell_type": "code",
      "metadata": {
        "id": "zra2TtwlHRG9",
        "colab_type": "code",
        "colab": {
          "base_uri": "https://localhost:8080/",
          "height": 374
        },
        "outputId": "486fb051-2593-4c56-f94b-64390e729dfd"
      },
      "source": [
        "model = Sequential()\n",
        "model.add(GRU(256 , input_shape = (1 , n_features) , return_sequences=True))\n",
        "model.add(Dropout(0.4))\n",
        "model.add(LSTM(256))\n",
        "model.add(Dropout(0.4))\n",
        "model.add(Dense(64 ,  activation = 'relu'))\n",
        "model.add(Dense(1))\n",
        "print(model.summary())"
      ],
      "execution_count": null,
      "outputs": [
        {
          "output_type": "stream",
          "text": [
            "Model: \"sequential_6\"\n",
            "_________________________________________________________________\n",
            "Layer (type)                 Output Shape              Param #   \n",
            "=================================================================\n",
            "gru_6 (GRU)                  (None, 1, 256)            202752    \n",
            "_________________________________________________________________\n",
            "dropout_11 (Dropout)         (None, 1, 256)            0         \n",
            "_________________________________________________________________\n",
            "lstm_6 (LSTM)                (None, 256)               525312    \n",
            "_________________________________________________________________\n",
            "dropout_12 (Dropout)         (None, 256)               0         \n",
            "_________________________________________________________________\n",
            "dense_11 (Dense)             (None, 64)                16448     \n",
            "_________________________________________________________________\n",
            "dense_12 (Dense)             (None, 1)                 65        \n",
            "=================================================================\n",
            "Total params: 744,577\n",
            "Trainable params: 744,577\n",
            "Non-trainable params: 0\n",
            "_________________________________________________________________\n",
            "None\n"
          ],
          "name": "stdout"
        }
      ]
    },
    {
      "cell_type": "code",
      "metadata": {
        "id": "WZZwcKytHSc3",
        "colab_type": "code",
        "colab": {}
      },
      "source": [
        "model.compile(loss='mean_squared_error', optimizer=Adam(lr = 0.0005) , metrics = ['mean_squared_error'])"
      ],
      "execution_count": null,
      "outputs": []
    },
    {
      "cell_type": "code",
      "metadata": {
        "id": "vZ_dhuVBHaqG",
        "colab_type": "code",
        "colab": {
          "base_uri": "https://localhost:8080/",
          "height": 1000
        },
        "outputId": "25f16b9c-d76e-4975-aa2a-24ce13c9fea8"
      },
      "source": [
        "history = model.fit(train_X, train_Y, epochs=100 , batch_size = 128 , \n",
        "          callbacks = [checkpoint , lr_reduce] , validation_data = (test_X,test_Y))"
      ],
      "execution_count": null,
      "outputs": [
        {
          "output_type": "stream",
          "text": [
            "Train on 1401 samples, validate on 345 samples\n",
            "Epoch 1/100\n",
            "1401/1401 [==============================] - 1s 581us/step - loss: 0.1932 - mean_squared_error: 0.1932 - val_loss: 0.2385 - val_mean_squared_error: 0.2385\n",
            "\n",
            "Epoch 00001: val_loss improved from -inf to 0.23845, saving model to best_weights.hdf5\n",
            "Epoch 2/100\n",
            "1401/1401 [==============================] - 0s 76us/step - loss: 0.0356 - mean_squared_error: 0.0356 - val_loss: 0.0198 - val_mean_squared_error: 0.0198\n",
            "\n",
            "Epoch 00002: val_loss did not improve from 0.23845\n",
            "Epoch 3/100\n",
            "1401/1401 [==============================] - 0s 70us/step - loss: 0.0152 - mean_squared_error: 0.0152 - val_loss: 0.0051 - val_mean_squared_error: 0.0051\n",
            "\n",
            "Epoch 00003: val_loss did not improve from 0.23845\n",
            "Epoch 4/100\n",
            "1401/1401 [==============================] - 0s 75us/step - loss: 0.0074 - mean_squared_error: 0.0074 - val_loss: 0.0078 - val_mean_squared_error: 0.0078\n",
            "\n",
            "Epoch 00004: val_loss did not improve from 0.23845\n",
            "\n",
            "Epoch 00004: ReduceLROnPlateau reducing learning rate to 5.0000002374872565e-05.\n",
            "Epoch 5/100\n",
            "1401/1401 [==============================] - 0s 72us/step - loss: 0.0054 - mean_squared_error: 0.0054 - val_loss: 0.0048 - val_mean_squared_error: 0.0048\n",
            "\n",
            "Epoch 00005: val_loss did not improve from 0.23845\n",
            "Epoch 6/100\n",
            "1401/1401 [==============================] - 0s 70us/step - loss: 0.0049 - mean_squared_error: 0.0049 - val_loss: 0.0028 - val_mean_squared_error: 0.0028\n",
            "\n",
            "Epoch 00006: val_loss did not improve from 0.23845\n",
            "Epoch 7/100\n",
            "1401/1401 [==============================] - 0s 75us/step - loss: 0.0041 - mean_squared_error: 0.0041 - val_loss: 0.0017 - val_mean_squared_error: 0.0017\n",
            "\n",
            "Epoch 00007: val_loss did not improve from 0.23845\n",
            "Epoch 8/100\n",
            "1401/1401 [==============================] - 0s 70us/step - loss: 0.0040 - mean_squared_error: 0.0040 - val_loss: 0.0014 - val_mean_squared_error: 0.0014\n",
            "\n",
            "Epoch 00008: val_loss did not improve from 0.23845\n",
            "Epoch 9/100\n",
            "1401/1401 [==============================] - 0s 70us/step - loss: 0.0039 - mean_squared_error: 0.0039 - val_loss: 0.0013 - val_mean_squared_error: 0.0013\n",
            "\n",
            "Epoch 00009: val_loss did not improve from 0.23845\n",
            "\n",
            "Epoch 00009: ReduceLROnPlateau reducing learning rate to 5.000000237487257e-06.\n",
            "Epoch 10/100\n",
            "1401/1401 [==============================] - 0s 75us/step - loss: 0.0040 - mean_squared_error: 0.0040 - val_loss: 0.0013 - val_mean_squared_error: 0.0013\n",
            "\n",
            "Epoch 00010: val_loss did not improve from 0.23845\n",
            "\n",
            "Epoch 00010: ReduceLROnPlateau reducing learning rate to 5.000000328436726e-07.\n",
            "Epoch 11/100\n",
            "1401/1401 [==============================] - 0s 69us/step - loss: 0.0039 - mean_squared_error: 0.0039 - val_loss: 0.0013 - val_mean_squared_error: 0.0013\n",
            "\n",
            "Epoch 00011: val_loss did not improve from 0.23845\n",
            "\n",
            "Epoch 00011: ReduceLROnPlateau reducing learning rate to 5.000000555810402e-08.\n",
            "Epoch 12/100\n",
            "1401/1401 [==============================] - 0s 73us/step - loss: 0.0038 - mean_squared_error: 0.0038 - val_loss: 0.0013 - val_mean_squared_error: 0.0013\n",
            "\n",
            "Epoch 00012: val_loss did not improve from 0.23845\n",
            "\n",
            "Epoch 00012: ReduceLROnPlateau reducing learning rate to 5.000000413701855e-09.\n",
            "Epoch 13/100\n",
            "1401/1401 [==============================] - 0s 71us/step - loss: 0.0040 - mean_squared_error: 0.0040 - val_loss: 0.0013 - val_mean_squared_error: 0.0013\n",
            "\n",
            "Epoch 00013: val_loss did not improve from 0.23845\n",
            "\n",
            "Epoch 00013: ReduceLROnPlateau reducing learning rate to 5.000000413701855e-10.\n",
            "Epoch 14/100\n",
            "1401/1401 [==============================] - 0s 71us/step - loss: 0.0039 - mean_squared_error: 0.0039 - val_loss: 0.0013 - val_mean_squared_error: 0.0013\n",
            "\n",
            "Epoch 00014: val_loss did not improve from 0.23845\n",
            "\n",
            "Epoch 00014: ReduceLROnPlateau reducing learning rate to 5.000000413701855e-11.\n",
            "Epoch 15/100\n",
            "1401/1401 [==============================] - 0s 69us/step - loss: 0.0037 - mean_squared_error: 0.0037 - val_loss: 0.0013 - val_mean_squared_error: 0.0013\n",
            "\n",
            "Epoch 00015: val_loss did not improve from 0.23845\n",
            "\n",
            "Epoch 00015: ReduceLROnPlateau reducing learning rate to 5.000000413701855e-12.\n",
            "Epoch 16/100\n",
            "1401/1401 [==============================] - 0s 68us/step - loss: 0.0040 - mean_squared_error: 0.0040 - val_loss: 0.0013 - val_mean_squared_error: 0.0013\n",
            "\n",
            "Epoch 00016: val_loss did not improve from 0.23845\n",
            "\n",
            "Epoch 00016: ReduceLROnPlateau reducing learning rate to 5.000000413701855e-13.\n",
            "Epoch 17/100\n",
            "1401/1401 [==============================] - 0s 78us/step - loss: 0.0042 - mean_squared_error: 0.0042 - val_loss: 0.0013 - val_mean_squared_error: 0.0013\n",
            "\n",
            "Epoch 00017: val_loss did not improve from 0.23845\n",
            "\n",
            "Epoch 00017: ReduceLROnPlateau reducing learning rate to 5.0000005221220725e-14.\n",
            "Epoch 18/100\n",
            "1401/1401 [==============================] - 0s 69us/step - loss: 0.0039 - mean_squared_error: 0.0039 - val_loss: 0.0013 - val_mean_squared_error: 0.0013\n",
            "\n",
            "Epoch 00018: val_loss did not improve from 0.23845\n",
            "\n",
            "Epoch 00018: ReduceLROnPlateau reducing learning rate to 5.000000589884709e-15.\n",
            "Epoch 19/100\n",
            "1401/1401 [==============================] - 0s 69us/step - loss: 0.0040 - mean_squared_error: 0.0040 - val_loss: 0.0013 - val_mean_squared_error: 0.0013\n",
            "\n",
            "Epoch 00019: val_loss did not improve from 0.23845\n",
            "\n",
            "Epoch 00019: ReduceLROnPlateau reducing learning rate to 5.000000759291298e-16.\n",
            "Epoch 20/100\n",
            "1401/1401 [==============================] - 0s 83us/step - loss: 0.0040 - mean_squared_error: 0.0040 - val_loss: 0.0013 - val_mean_squared_error: 0.0013\n",
            "\n",
            "Epoch 00020: val_loss did not improve from 0.23845\n",
            "\n",
            "Epoch 00020: ReduceLROnPlateau reducing learning rate to 5.000000547533061e-17.\n",
            "Epoch 21/100\n",
            "1401/1401 [==============================] - 0s 71us/step - loss: 0.0040 - mean_squared_error: 0.0040 - val_loss: 0.0013 - val_mean_squared_error: 0.0013\n",
            "\n",
            "Epoch 00021: val_loss did not improve from 0.23845\n",
            "\n",
            "Epoch 00021: ReduceLROnPlateau reducing learning rate to 5.000000415184163e-18.\n",
            "Epoch 22/100\n",
            "1401/1401 [==============================] - 0s 77us/step - loss: 0.0041 - mean_squared_error: 0.0041 - val_loss: 0.0013 - val_mean_squared_error: 0.0013\n",
            "\n",
            "Epoch 00022: val_loss did not improve from 0.23845\n",
            "\n",
            "Epoch 00022: ReduceLROnPlateau reducing learning rate to 5.000000332466102e-19.\n",
            "Epoch 23/100\n",
            "1401/1401 [==============================] - 0s 73us/step - loss: 0.0038 - mean_squared_error: 0.0038 - val_loss: 0.0013 - val_mean_squared_error: 0.0013\n",
            "\n",
            "Epoch 00023: val_loss did not improve from 0.23845\n",
            "\n",
            "Epoch 00023: ReduceLROnPlateau reducing learning rate to 5.000000229068525e-20.\n",
            "Epoch 24/100\n",
            "1401/1401 [==============================] - 0s 71us/step - loss: 0.0037 - mean_squared_error: 0.0037 - val_loss: 0.0013 - val_mean_squared_error: 0.0013\n",
            "\n",
            "Epoch 00024: val_loss did not improve from 0.23845\n",
            "\n",
            "Epoch 00024: ReduceLROnPlateau reducing learning rate to 5.00000016444504e-21.\n",
            "Epoch 25/100\n",
            "1401/1401 [==============================] - 0s 69us/step - loss: 0.0042 - mean_squared_error: 0.0042 - val_loss: 0.0013 - val_mean_squared_error: 0.0013\n",
            "\n",
            "Epoch 00025: val_loss did not improve from 0.23845\n",
            "\n",
            "Epoch 00025: ReduceLROnPlateau reducing learning rate to 5.000000245224397e-22.\n",
            "Epoch 26/100\n",
            "1401/1401 [==============================] - 0s 69us/step - loss: 0.0039 - mean_squared_error: 0.0039 - val_loss: 0.0013 - val_mean_squared_error: 0.0013\n",
            "\n",
            "Epoch 00026: val_loss did not improve from 0.23845\n",
            "\n",
            "Epoch 00026: ReduceLROnPlateau reducing learning rate to 5.0000003461985925e-23.\n",
            "Epoch 27/100\n",
            "1401/1401 [==============================] - 0s 79us/step - loss: 0.0039 - mean_squared_error: 0.0039 - val_loss: 0.0013 - val_mean_squared_error: 0.0013\n",
            "\n",
            "Epoch 00027: val_loss did not improve from 0.23845\n",
            "\n",
            "Epoch 00027: ReduceLROnPlateau reducing learning rate to 5.000000472416337e-24.\n",
            "Epoch 28/100\n",
            "1401/1401 [==============================] - 0s 72us/step - loss: 0.0040 - mean_squared_error: 0.0040 - val_loss: 0.0013 - val_mean_squared_error: 0.0013\n",
            "\n",
            "Epoch 00028: val_loss did not improve from 0.23845\n",
            "\n",
            "Epoch 00028: ReduceLROnPlateau reducing learning rate to 5.000000393530247e-25.\n",
            "Epoch 29/100\n",
            "1401/1401 [==============================] - 0s 69us/step - loss: 0.0041 - mean_squared_error: 0.0041 - val_loss: 0.0013 - val_mean_squared_error: 0.0013\n",
            "\n",
            "Epoch 00029: val_loss did not improve from 0.23845\n",
            "\n",
            "Epoch 00029: ReduceLROnPlateau reducing learning rate to 5.000000590745473e-26.\n",
            "Epoch 30/100\n",
            "1401/1401 [==============================] - 0s 74us/step - loss: 0.0040 - mean_squared_error: 0.0040 - val_loss: 0.0013 - val_mean_squared_error: 0.0013\n",
            "\n",
            "Epoch 00030: val_loss did not improve from 0.23845\n",
            "\n",
            "Epoch 00030: ReduceLROnPlateau reducing learning rate to 5.000000714004989e-27.\n",
            "Epoch 31/100\n",
            "1401/1401 [==============================] - 0s 68us/step - loss: 0.0038 - mean_squared_error: 0.0038 - val_loss: 0.0013 - val_mean_squared_error: 0.0013\n",
            "\n",
            "Epoch 00031: val_loss did not improve from 0.23845\n",
            "\n",
            "Epoch 00031: ReduceLROnPlateau reducing learning rate to 5.00000071400499e-28.\n",
            "Epoch 32/100\n",
            "1401/1401 [==============================] - 0s 71us/step - loss: 0.0040 - mean_squared_error: 0.0040 - val_loss: 0.0013 - val_mean_squared_error: 0.0013\n",
            "\n",
            "Epoch 00032: val_loss did not improve from 0.23845\n",
            "\n",
            "Epoch 00032: ReduceLROnPlateau reducing learning rate to 5.000000617708492e-29.\n",
            "Epoch 33/100\n",
            "1401/1401 [==============================] - 0s 70us/step - loss: 0.0041 - mean_squared_error: 0.0041 - val_loss: 0.0013 - val_mean_squared_error: 0.0013\n",
            "\n",
            "Epoch 00033: val_loss did not improve from 0.23845\n",
            "\n",
            "Epoch 00033: ReduceLROnPlateau reducing learning rate to 5.0000006177084924e-30.\n",
            "Epoch 34/100\n",
            "1401/1401 [==============================] - 0s 70us/step - loss: 0.0040 - mean_squared_error: 0.0040 - val_loss: 0.0013 - val_mean_squared_error: 0.0013\n",
            "\n",
            "Epoch 00034: val_loss did not improve from 0.23845\n",
            "\n",
            "Epoch 00034: ReduceLROnPlateau reducing learning rate to 5.0000007681717695e-31.\n",
            "Epoch 35/100\n",
            "1401/1401 [==============================] - 0s 73us/step - loss: 0.0039 - mean_squared_error: 0.0039 - val_loss: 0.0013 - val_mean_squared_error: 0.0013\n",
            "\n",
            "Epoch 00035: val_loss did not improve from 0.23845\n",
            "\n",
            "Epoch 00035: ReduceLROnPlateau reducing learning rate to 5.000000956250865e-32.\n",
            "Epoch 36/100\n",
            "1401/1401 [==============================] - 0s 69us/step - loss: 0.0038 - mean_squared_error: 0.0038 - val_loss: 0.0013 - val_mean_squared_error: 0.0013\n",
            "\n",
            "Epoch 00036: val_loss did not improve from 0.23845\n",
            "\n",
            "Epoch 00036: ReduceLROnPlateau reducing learning rate to 5.0000010738003005e-33.\n",
            "Epoch 37/100\n",
            "1401/1401 [==============================] - 0s 78us/step - loss: 0.0041 - mean_squared_error: 0.0041 - val_loss: 0.0013 - val_mean_squared_error: 0.0013\n",
            "\n",
            "Epoch 00037: val_loss did not improve from 0.23845\n",
            "\n",
            "Epoch 00037: ReduceLROnPlateau reducing learning rate to 5.000001220737094e-34.\n",
            "Epoch 38/100\n",
            "1401/1401 [==============================] - 0s 72us/step - loss: 0.0040 - mean_squared_error: 0.0040 - val_loss: 0.0013 - val_mean_squared_error: 0.0013\n",
            "\n",
            "Epoch 00038: val_loss did not improve from 0.23845\n",
            "\n",
            "Epoch 00038: ReduceLROnPlateau reducing learning rate to 5.000001037066102e-35.\n",
            "Epoch 39/100\n",
            "1401/1401 [==============================] - 0s 73us/step - loss: 0.0040 - mean_squared_error: 0.0040 - val_loss: 0.0013 - val_mean_squared_error: 0.0013\n",
            "\n",
            "Epoch 00039: val_loss did not improve from 0.23845\n",
            "\n",
            "Epoch 00039: ReduceLROnPlateau reducing learning rate to 5.000000807477361e-36.\n",
            "Epoch 40/100\n",
            "1401/1401 [==============================] - 0s 75us/step - loss: 0.0041 - mean_squared_error: 0.0041 - val_loss: 0.0013 - val_mean_squared_error: 0.0013\n",
            "\n",
            "Epoch 00040: val_loss did not improve from 0.23845\n",
            "\n",
            "Epoch 00040: ReduceLROnPlateau reducing learning rate to 5.000000807477361e-37.\n",
            "Epoch 41/100\n",
            "1401/1401 [==============================] - 0s 69us/step - loss: 0.0038 - mean_squared_error: 0.0038 - val_loss: 0.0013 - val_mean_squared_error: 0.0013\n",
            "\n",
            "Epoch 00041: val_loss did not improve from 0.23845\n",
            "\n",
            "Epoch 00041: ReduceLROnPlateau reducing learning rate to 5.000000628111158e-38.\n",
            "Epoch 42/100\n",
            "1401/1401 [==============================] - 0s 68us/step - loss: 0.0039 - mean_squared_error: 0.0039 - val_loss: 0.0013 - val_mean_squared_error: 0.0013\n",
            "\n",
            "Epoch 00042: val_loss did not improve from 0.23845\n",
            "\n",
            "Epoch 00042: ReduceLROnPlateau reducing learning rate to 5.000000516007281e-39.\n",
            "Epoch 43/100\n",
            "1401/1401 [==============================] - 0s 74us/step - loss: 0.0040 - mean_squared_error: 0.0040 - val_loss: 0.0013 - val_mean_squared_error: 0.0013\n",
            "\n",
            "Epoch 00043: val_loss did not improve from 0.23845\n",
            "\n",
            "Epoch 00043: ReduceLROnPlateau reducing learning rate to 5.000001076526666e-40.\n",
            "Epoch 44/100\n",
            "1401/1401 [==============================] - 0s 69us/step - loss: 0.0040 - mean_squared_error: 0.0040 - val_loss: 0.0013 - val_mean_squared_error: 0.0013\n",
            "\n",
            "Epoch 00044: val_loss did not improve from 0.23845\n",
            "\n",
            "Epoch 00044: ReduceLROnPlateau reducing learning rate to 5.000001076526667e-41.\n",
            "Epoch 45/100\n",
            "1401/1401 [==============================] - 0s 71us/step - loss: 0.0039 - mean_squared_error: 0.0039 - val_loss: 0.0013 - val_mean_squared_error: 0.0013\n",
            "\n",
            "Epoch 00045: val_loss did not improve from 0.23845\n",
            "\n",
            "Epoch 00045: ReduceLROnPlateau reducing learning rate to 4.99997305055738e-42.\n",
            "Epoch 46/100\n",
            "1401/1401 [==============================] - 0s 77us/step - loss: 0.0041 - mean_squared_error: 0.0041 - val_loss: 0.0013 - val_mean_squared_error: 0.0013\n",
            "\n",
            "Epoch 00046: val_loss did not improve from 0.23845\n",
            "\n",
            "Epoch 00046: ReduceLROnPlateau reducing learning rate to 4.9998329207109475e-43.\n",
            "Epoch 47/100\n",
            "1401/1401 [==============================] - 0s 71us/step - loss: 0.0040 - mean_squared_error: 0.0040 - val_loss: 0.0013 - val_mean_squared_error: 0.0013\n",
            "\n",
            "Epoch 00047: val_loss did not improve from 0.23845\n",
            "\n",
            "Epoch 00047: ReduceLROnPlateau reducing learning rate to 5.002635517639597e-44.\n",
            "Epoch 48/100\n",
            "1401/1401 [==============================] - 0s 73us/step - loss: 0.0040 - mean_squared_error: 0.0040 - val_loss: 0.0013 - val_mean_squared_error: 0.0013\n",
            "\n",
            "Epoch 00048: val_loss did not improve from 0.23845\n",
            "\n",
            "Epoch 00048: ReduceLROnPlateau reducing learning rate to 5.0446744715693416e-45.\n",
            "Epoch 49/100\n",
            "1401/1401 [==============================] - 0s 86us/step - loss: 0.0039 - mean_squared_error: 0.0039 - val_loss: 0.0013 - val_mean_squared_error: 0.0013\n",
            "\n",
            "Epoch 00049: val_loss did not improve from 0.23845\n",
            "\n",
            "Epoch 00049: ReduceLROnPlateau reducing learning rate to 5.6051938572992686e-46.\n",
            "Epoch 50/100\n",
            "1401/1401 [==============================] - 0s 103us/step - loss: 0.0040 - mean_squared_error: 0.0040 - val_loss: 0.0013 - val_mean_squared_error: 0.0013\n",
            "\n",
            "Epoch 00050: val_loss did not improve from 0.23845\n",
            "Epoch 51/100\n",
            "1401/1401 [==============================] - 0s 90us/step - loss: 0.0040 - mean_squared_error: 0.0040 - val_loss: 0.0013 - val_mean_squared_error: 0.0013\n",
            "\n",
            "Epoch 00051: val_loss did not improve from 0.23845\n",
            "Epoch 52/100\n",
            "1401/1401 [==============================] - 0s 95us/step - loss: 0.0038 - mean_squared_error: 0.0038 - val_loss: 0.0013 - val_mean_squared_error: 0.0013\n",
            "\n",
            "Epoch 00052: val_loss did not improve from 0.23845\n",
            "Epoch 53/100\n",
            "1401/1401 [==============================] - 0s 109us/step - loss: 0.0041 - mean_squared_error: 0.0041 - val_loss: 0.0013 - val_mean_squared_error: 0.0013\n",
            "\n",
            "Epoch 00053: val_loss did not improve from 0.23845\n",
            "Epoch 54/100\n",
            "1401/1401 [==============================] - 0s 114us/step - loss: 0.0038 - mean_squared_error: 0.0038 - val_loss: 0.0013 - val_mean_squared_error: 0.0013\n",
            "\n",
            "Epoch 00054: val_loss did not improve from 0.23845\n",
            "Epoch 55/100\n",
            "1401/1401 [==============================] - 0s 76us/step - loss: 0.0038 - mean_squared_error: 0.0038 - val_loss: 0.0013 - val_mean_squared_error: 0.0013\n",
            "\n",
            "Epoch 00055: val_loss did not improve from 0.23845\n",
            "Epoch 56/100\n",
            "1401/1401 [==============================] - 0s 76us/step - loss: 0.0040 - mean_squared_error: 0.0040 - val_loss: 0.0013 - val_mean_squared_error: 0.0013\n",
            "\n",
            "Epoch 00056: val_loss did not improve from 0.23845\n",
            "Epoch 57/100\n",
            "1401/1401 [==============================] - 0s 91us/step - loss: 0.0040 - mean_squared_error: 0.0040 - val_loss: 0.0013 - val_mean_squared_error: 0.0013\n",
            "\n",
            "Epoch 00057: val_loss did not improve from 0.23845\n",
            "Epoch 58/100\n",
            "1401/1401 [==============================] - 0s 94us/step - loss: 0.0039 - mean_squared_error: 0.0039 - val_loss: 0.0013 - val_mean_squared_error: 0.0013\n",
            "\n",
            "Epoch 00058: val_loss did not improve from 0.23845\n",
            "Epoch 59/100\n",
            "1401/1401 [==============================] - 0s 71us/step - loss: 0.0041 - mean_squared_error: 0.0041 - val_loss: 0.0013 - val_mean_squared_error: 0.0013\n",
            "\n",
            "Epoch 00059: val_loss did not improve from 0.23845\n",
            "Epoch 60/100\n",
            "1401/1401 [==============================] - 0s 69us/step - loss: 0.0040 - mean_squared_error: 0.0040 - val_loss: 0.0013 - val_mean_squared_error: 0.0013\n",
            "\n",
            "Epoch 00060: val_loss did not improve from 0.23845\n",
            "Epoch 61/100\n",
            "1401/1401 [==============================] - 0s 76us/step - loss: 0.0037 - mean_squared_error: 0.0037 - val_loss: 0.0013 - val_mean_squared_error: 0.0013\n",
            "\n",
            "Epoch 00061: val_loss did not improve from 0.23845\n",
            "Epoch 62/100\n",
            "1401/1401 [==============================] - 0s 69us/step - loss: 0.0040 - mean_squared_error: 0.0040 - val_loss: 0.0013 - val_mean_squared_error: 0.0013\n",
            "\n",
            "Epoch 00062: val_loss did not improve from 0.23845\n",
            "Epoch 63/100\n",
            "1401/1401 [==============================] - 0s 76us/step - loss: 0.0039 - mean_squared_error: 0.0039 - val_loss: 0.0013 - val_mean_squared_error: 0.0013\n",
            "\n",
            "Epoch 00063: val_loss did not improve from 0.23845\n",
            "Epoch 64/100\n",
            "1401/1401 [==============================] - 0s 90us/step - loss: 0.0039 - mean_squared_error: 0.0039 - val_loss: 0.0013 - val_mean_squared_error: 0.0013\n",
            "\n",
            "Epoch 00064: val_loss did not improve from 0.23845\n",
            "Epoch 65/100\n",
            "1401/1401 [==============================] - 0s 100us/step - loss: 0.0040 - mean_squared_error: 0.0040 - val_loss: 0.0013 - val_mean_squared_error: 0.0013\n",
            "\n",
            "Epoch 00065: val_loss did not improve from 0.23845\n",
            "Epoch 66/100\n",
            "1401/1401 [==============================] - 0s 97us/step - loss: 0.0040 - mean_squared_error: 0.0040 - val_loss: 0.0013 - val_mean_squared_error: 0.0013\n",
            "\n",
            "Epoch 00066: val_loss did not improve from 0.23845\n",
            "Epoch 67/100\n",
            "1401/1401 [==============================] - 0s 108us/step - loss: 0.0038 - mean_squared_error: 0.0038 - val_loss: 0.0013 - val_mean_squared_error: 0.0013\n",
            "\n",
            "Epoch 00067: val_loss did not improve from 0.23845\n",
            "Epoch 68/100\n",
            "1401/1401 [==============================] - 0s 93us/step - loss: 0.0040 - mean_squared_error: 0.0040 - val_loss: 0.0013 - val_mean_squared_error: 0.0013\n",
            "\n",
            "Epoch 00068: val_loss did not improve from 0.23845\n",
            "Epoch 69/100\n",
            "1401/1401 [==============================] - 0s 91us/step - loss: 0.0038 - mean_squared_error: 0.0038 - val_loss: 0.0013 - val_mean_squared_error: 0.0013\n",
            "\n",
            "Epoch 00069: val_loss did not improve from 0.23845\n",
            "Epoch 70/100\n",
            "1401/1401 [==============================] - 0s 104us/step - loss: 0.0041 - mean_squared_error: 0.0041 - val_loss: 0.0013 - val_mean_squared_error: 0.0013\n",
            "\n",
            "Epoch 00070: val_loss did not improve from 0.23845\n",
            "Epoch 71/100\n",
            "1401/1401 [==============================] - 0s 102us/step - loss: 0.0040 - mean_squared_error: 0.0040 - val_loss: 0.0013 - val_mean_squared_error: 0.0013\n",
            "\n",
            "Epoch 00071: val_loss did not improve from 0.23845\n",
            "Epoch 72/100\n",
            "1401/1401 [==============================] - 0s 83us/step - loss: 0.0038 - mean_squared_error: 0.0038 - val_loss: 0.0013 - val_mean_squared_error: 0.0013\n",
            "\n",
            "Epoch 00072: val_loss did not improve from 0.23845\n",
            "Epoch 73/100\n",
            "1401/1401 [==============================] - 0s 71us/step - loss: 0.0039 - mean_squared_error: 0.0039 - val_loss: 0.0013 - val_mean_squared_error: 0.0013\n",
            "\n",
            "Epoch 00073: val_loss did not improve from 0.23845\n",
            "Epoch 74/100\n",
            "1401/1401 [==============================] - 0s 73us/step - loss: 0.0041 - mean_squared_error: 0.0041 - val_loss: 0.0013 - val_mean_squared_error: 0.0013\n",
            "\n",
            "Epoch 00074: val_loss did not improve from 0.23845\n",
            "Epoch 75/100\n",
            "1401/1401 [==============================] - 0s 75us/step - loss: 0.0040 - mean_squared_error: 0.0040 - val_loss: 0.0013 - val_mean_squared_error: 0.0013\n",
            "\n",
            "Epoch 00075: val_loss did not improve from 0.23845\n",
            "Epoch 76/100\n",
            "1401/1401 [==============================] - 0s 69us/step - loss: 0.0040 - mean_squared_error: 0.0040 - val_loss: 0.0013 - val_mean_squared_error: 0.0013\n",
            "\n",
            "Epoch 00076: val_loss did not improve from 0.23845\n",
            "Epoch 77/100\n",
            "1401/1401 [==============================] - 0s 73us/step - loss: 0.0038 - mean_squared_error: 0.0038 - val_loss: 0.0013 - val_mean_squared_error: 0.0013\n",
            "\n",
            "Epoch 00077: val_loss did not improve from 0.23845\n",
            "Epoch 78/100\n",
            "1401/1401 [==============================] - 0s 71us/step - loss: 0.0037 - mean_squared_error: 0.0037 - val_loss: 0.0013 - val_mean_squared_error: 0.0013\n",
            "\n",
            "Epoch 00078: val_loss did not improve from 0.23845\n",
            "Epoch 79/100\n",
            "1401/1401 [==============================] - 0s 69us/step - loss: 0.0041 - mean_squared_error: 0.0041 - val_loss: 0.0013 - val_mean_squared_error: 0.0013\n",
            "\n",
            "Epoch 00079: val_loss did not improve from 0.23845\n",
            "Epoch 80/100\n",
            "1401/1401 [==============================] - 0s 76us/step - loss: 0.0039 - mean_squared_error: 0.0039 - val_loss: 0.0013 - val_mean_squared_error: 0.0013\n",
            "\n",
            "Epoch 00080: val_loss did not improve from 0.23845\n",
            "Epoch 81/100\n",
            "1401/1401 [==============================] - 0s 71us/step - loss: 0.0041 - mean_squared_error: 0.0041 - val_loss: 0.0013 - val_mean_squared_error: 0.0013\n",
            "\n",
            "Epoch 00081: val_loss did not improve from 0.23845\n",
            "Epoch 82/100\n",
            "1401/1401 [==============================] - 0s 101us/step - loss: 0.0040 - mean_squared_error: 0.0040 - val_loss: 0.0013 - val_mean_squared_error: 0.0013\n",
            "\n",
            "Epoch 00082: val_loss did not improve from 0.23845\n",
            "Epoch 83/100\n",
            "1401/1401 [==============================] - 0s 109us/step - loss: 0.0040 - mean_squared_error: 0.0040 - val_loss: 0.0013 - val_mean_squared_error: 0.0013\n",
            "\n",
            "Epoch 00083: val_loss did not improve from 0.23845\n",
            "Epoch 84/100\n",
            "1401/1401 [==============================] - 0s 111us/step - loss: 0.0042 - mean_squared_error: 0.0042 - val_loss: 0.0013 - val_mean_squared_error: 0.0013\n",
            "\n",
            "Epoch 00084: val_loss did not improve from 0.23845\n",
            "Epoch 85/100\n",
            "1401/1401 [==============================] - 0s 93us/step - loss: 0.0041 - mean_squared_error: 0.0041 - val_loss: 0.0013 - val_mean_squared_error: 0.0013\n",
            "\n",
            "Epoch 00085: val_loss did not improve from 0.23845\n",
            "Epoch 86/100\n",
            "1401/1401 [==============================] - 0s 97us/step - loss: 0.0040 - mean_squared_error: 0.0040 - val_loss: 0.0013 - val_mean_squared_error: 0.0013\n",
            "\n",
            "Epoch 00086: val_loss did not improve from 0.23845\n",
            "Epoch 87/100\n",
            "1401/1401 [==============================] - 0s 92us/step - loss: 0.0038 - mean_squared_error: 0.0038 - val_loss: 0.0013 - val_mean_squared_error: 0.0013\n",
            "\n",
            "Epoch 00087: val_loss did not improve from 0.23845\n",
            "Epoch 88/100\n",
            "1401/1401 [==============================] - 0s 73us/step - loss: 0.0041 - mean_squared_error: 0.0041 - val_loss: 0.0013 - val_mean_squared_error: 0.0013\n",
            "\n",
            "Epoch 00088: val_loss did not improve from 0.23845\n",
            "Epoch 89/100\n",
            "1401/1401 [==============================] - 0s 81us/step - loss: 0.0041 - mean_squared_error: 0.0041 - val_loss: 0.0013 - val_mean_squared_error: 0.0013\n",
            "\n",
            "Epoch 00089: val_loss did not improve from 0.23845\n",
            "Epoch 90/100\n",
            "1401/1401 [==============================] - 0s 70us/step - loss: 0.0039 - mean_squared_error: 0.0039 - val_loss: 0.0013 - val_mean_squared_error: 0.0013\n",
            "\n",
            "Epoch 00090: val_loss did not improve from 0.23845\n",
            "Epoch 91/100\n",
            "1401/1401 [==============================] - 0s 72us/step - loss: 0.0040 - mean_squared_error: 0.0040 - val_loss: 0.0013 - val_mean_squared_error: 0.0013\n",
            "\n",
            "Epoch 00091: val_loss did not improve from 0.23845\n",
            "Epoch 92/100\n",
            "1401/1401 [==============================] - 0s 72us/step - loss: 0.0040 - mean_squared_error: 0.0040 - val_loss: 0.0013 - val_mean_squared_error: 0.0013\n",
            "\n",
            "Epoch 00092: val_loss did not improve from 0.23845\n",
            "Epoch 93/100\n",
            "1401/1401 [==============================] - 0s 70us/step - loss: 0.0039 - mean_squared_error: 0.0039 - val_loss: 0.0013 - val_mean_squared_error: 0.0013\n",
            "\n",
            "Epoch 00093: val_loss did not improve from 0.23845\n",
            "Epoch 94/100\n",
            "1401/1401 [==============================] - 0s 70us/step - loss: 0.0039 - mean_squared_error: 0.0039 - val_loss: 0.0013 - val_mean_squared_error: 0.0013\n",
            "\n",
            "Epoch 00094: val_loss did not improve from 0.23845\n",
            "Epoch 95/100\n",
            "1401/1401 [==============================] - 0s 76us/step - loss: 0.0039 - mean_squared_error: 0.0039 - val_loss: 0.0013 - val_mean_squared_error: 0.0013\n",
            "\n",
            "Epoch 00095: val_loss did not improve from 0.23845\n",
            "Epoch 96/100\n",
            "1401/1401 [==============================] - 0s 95us/step - loss: 0.0040 - mean_squared_error: 0.0040 - val_loss: 0.0013 - val_mean_squared_error: 0.0013\n",
            "\n",
            "Epoch 00096: val_loss did not improve from 0.23845\n",
            "Epoch 97/100\n",
            "1401/1401 [==============================] - 0s 103us/step - loss: 0.0039 - mean_squared_error: 0.0039 - val_loss: 0.0013 - val_mean_squared_error: 0.0013\n",
            "\n",
            "Epoch 00097: val_loss did not improve from 0.23845\n",
            "Epoch 98/100\n",
            "1401/1401 [==============================] - 0s 105us/step - loss: 0.0041 - mean_squared_error: 0.0041 - val_loss: 0.0013 - val_mean_squared_error: 0.0013\n",
            "\n",
            "Epoch 00098: val_loss did not improve from 0.23845\n",
            "Epoch 99/100\n",
            "1401/1401 [==============================] - 0s 94us/step - loss: 0.0040 - mean_squared_error: 0.0040 - val_loss: 0.0013 - val_mean_squared_error: 0.0013\n",
            "\n",
            "Epoch 00099: val_loss did not improve from 0.23845\n",
            "Epoch 100/100\n",
            "1401/1401 [==============================] - 0s 71us/step - loss: 0.0041 - mean_squared_error: 0.0041 - val_loss: 0.0013 - val_mean_squared_error: 0.0013\n",
            "\n",
            "Epoch 00100: val_loss did not improve from 0.23845\n"
          ],
          "name": "stdout"
        }
      ]
    },
    {
      "cell_type": "code",
      "metadata": {
        "id": "8ziJlQjHUeUs",
        "colab_type": "code",
        "colab": {
          "base_uri": "https://localhost:8080/",
          "height": 401
        },
        "outputId": "91877634-abcd-4702-c518-bd8d97a4dfb4"
      },
      "source": [
        "ax = pd.Series(history.history['mean_squared_error']).plot(legend=True,figsize=(12,5))\n",
        "bx = pd.Series(history.history['val_mean_squared_error']).plot(legend=True,figsize=(12,5))\n",
        "plt.legend(['train', 'test'], loc='upper right')\n",
        "ax.set(xlabel='epochs', ylabel='MSE', title=\"Mean Squared Error\")"
      ],
      "execution_count": null,
      "outputs": [
        {
          "output_type": "execute_result",
          "data": {
            "text/plain": [
              "[Text(0, 0.5, 'MSE'),\n",
              " Text(0.5, 0, 'epochs'),\n",
              " Text(0.5, 1.0, 'Mean Squared Error')]"
            ]
          },
          "metadata": {
            "tags": []
          },
          "execution_count": 72
        },
        {
          "output_type": "display_data",
          "data": {
            "image/png": "[encoded data removed]",
            "text/plain": [
              "<Figure size 864x360 with 1 Axes>"
            ]
          },
          "metadata": {
            "tags": []
          }
        }
      ]
    },
    {
      "cell_type": "code",
      "metadata": {
        "id": "qc6lFXnbWM_Y",
        "colab_type": "code",
        "colab": {
          "base_uri": "https://localhost:8080/",
          "height": 367
        },
        "outputId": "9945c8e2-a22c-4b42-e06b-00d2cecccad2"
      },
      "source": [
        "ax = pd.Series(history.history['loss']).plot(legend=True,figsize=(12,5))\n",
        "bx = pd.Series(history.history['val_loss']).plot(legend=True,figsize=(12,5))\n",
        "plt.legend(['train', 'test'], loc='upper right')\n",
        "ax.set(xlabel='epochs', ylabel='Loss', title=\"Loss\")"
      ],
      "execution_count": null,
      "outputs": [
        {
          "output_type": "execute_result",
          "data": {
            "text/plain": [
              "[Text(0, 0.5, 'Loss'), Text(0.5, 0, 'epochs'), Text(0.5, 1.0, 'Loss')]"
            ]
          },
          "metadata": {
            "tags": []
          },
          "execution_count": 73
        },
        {
          "output_type": "display_data",
          "data": {
            "image/png": "[encoded data removed]",
            "text/plain": [
              "<Figure size 864x360 with 1 Axes>"
            ]
          },
          "metadata": {
            "tags": []
          }
        }
      ]
    },
    {
      "cell_type": "code",
      "metadata": {
        "id": "f6RIBAdgHs4M",
        "colab_type": "code",
        "colab": {
          "base_uri": "https://localhost:8080/",
          "height": 68
        },
        "outputId": "4190cb86-ad76-4202-b46b-4082ee769586"
      },
      "source": [
        "def model_score(model, X_train, y_train, X_test, y_test):\n",
        "    \"\"\"\n",
        "    Model Score.\n",
        "\n",
        "    This function returns the Root Mean Squared Score and Mean Squared Score.\n",
        "\n",
        "    Parameters\n",
        "    ----------\n",
        "    X_train : array\n",
        "    y_train : array\n",
        "    X_test : array\n",
        "    y_test : array\n",
        "\n",
        "    Returns\n",
        "    -------\n",
        "    trainScore : float\n",
        "          training error scores.\n",
        "    testScore : float\n",
        "          testing error scores.\n",
        "    \"\"\"\n",
        "\n",
        "\n",
        "    trainScore = model.evaluate(X_train, y_train, verbose=0)\n",
        "    print('Train Score: %.5f MSE (%.2f RMSE)' % (trainScore[0], math.sqrt(trainScore[0])))\n",
        "    testScore = model.evaluate(X_test, y_test, verbose=0)\n",
        "    print('Test Score: %.5f MSE (%.2f RMSE)' % (testScore[0], math.sqrt(testScore[0])))\n",
        "    return trainScore[0], testScore[0]\n",
        "\n",
        "model_score(model, train_X, train_Y , test_X, test_Y)"
      ],
      "execution_count": null,
      "outputs": [
        {
          "output_type": "stream",
          "text": [
            "Train Score: 0.00208 MSE (0.05 RMSE)\n",
            "Test Score: 0.00132 MSE (0.04 RMSE)\n"
          ],
          "name": "stdout"
        },
        {
          "output_type": "execute_result",
          "data": {
            "text/plain": [
              "(0.002078161386441942, 0.0013217285504915576)"
            ]
          },
          "metadata": {
            "tags": []
          },
          "execution_count": 74
        }
      ]
    },
    {
      "cell_type": "code",
      "metadata": {
        "id": "dP5kpN9LIDrS",
        "colab_type": "code",
        "colab": {}
      },
      "source": [
        "pred = model.predict(test_X)\n",
        "pred = scaler.inverse_transform(pred)\n",
        "\n",
        "valid_Y = test_Y.reshape(test_Y.shape[0], 1)\n",
        "valid_Y = scaler.inverse_transform(valid_Y)"
      ],
      "execution_count": null,
      "outputs": []
    },
    {
      "cell_type": "code",
      "metadata": {
        "id": "Z4Uygh0ftB9V",
        "colab_type": "code",
        "colab": {
          "base_uri": "https://localhost:8080/",
          "height": 475
        },
        "outputId": "a3899450-a305-4c18-a20c-e8d9984ed0a8"
      },
      "source": [
        "print(\"Red - Predicted Stock Prices  ,  Blue - Actual Stock Prices\")\n",
        "plt.rcParams[\"figure.figsize\"] = (15,7)\n",
        "plt.plot(valid_Y , 'b')\n",
        "plt.plot(pred , 'r')\n",
        "plt.xlabel('Time')\n",
        "plt.ylabel('Stock Prices')\n",
        "plt.title('Model Accuracy')\n",
        "plt.grid(True)\n",
        "plt.show()"
      ],
      "execution_count": null,
      "outputs": [
        {
          "output_type": "stream",
          "text": [
            "Red - Predicted Stock Prices  ,  Blue - Actual Stock Prices\n"
          ],
          "name": "stdout"
        },
        {
          "output_type": "display_data",
          "data": {
            "image/png": "[encoded data removed]",
            "text/plain": [
              "<Figure size 1080x504 with 1 Axes>"
            ]
          },
          "metadata": {
            "tags": []
          }
        }
      ]
    }
  ]
}